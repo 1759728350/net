{
 "cells": [
  {
   "cell_type": "markdown",
   "metadata": {},
   "source": [
    "# 英雄联盟Top10数据分析报告\n",
    "\n",
    "## 数据汇总\n",
    "\n",
    "* 前十登场率平均 8.9\n",
    "* 前十胜率 55.4\n",
    "* 英雄类型数 5\n",
    "\n",
    "## 登场率最高\n",
    "\n",
    "* 评分最高的电影：肖申克的救赎 9.7分\n",
    "* 评分最多的电影：肖申克的救赎 2996612人\n",
    "* 最受欢迎的导演：宫崎骏 克里斯托弗·诺兰 4部\n",
    "* 片长最长的电影：乱世佳人 233分钟\n",
    "\n",
    "\n",
    "\n",
    "## 上榜国家前五名\n",
    "\n",
    "1. 美国 61部\n",
    "2. 中国 24部\n",
    "3. 英国 16部\n",
    "4. 日本 8部\n",
    "5. 法国 7部\n",
    "\n",
    "## 上榜类型前五名\n",
    "\n",
    "1. 喜剧 21部\n",
    "2. 冒险 21部\n",
    "3. 爱情 20部\n",
    "4. 奇幻 19部\n",
    "5. 犯罪 16部"
   ]
  },
  {
   "cell_type": "code",
   "execution_count": 1,
   "metadata": {},
   "outputs": [],
   "source": [
    "import numpy as np\n",
    "import pandas as pd"
   ]
  },
  {
   "cell_type": "code",
   "execution_count": 2,
   "metadata": {},
   "outputs": [
    {
     "data": {
      "text/html": [
       "<div>\n",
       "<style scoped>\n",
       "    .dataframe tbody tr th:only-of-type {\n",
       "        vertical-align: middle;\n",
       "    }\n",
       "\n",
       "    .dataframe tbody tr th {\n",
       "        vertical-align: top;\n",
       "    }\n",
       "\n",
       "    .dataframe thead th {\n",
       "        text-align: right;\n",
       "    }\n",
       "</style>\n",
       "<table border=\"1\" class=\"dataframe\">\n",
       "  <thead>\n",
       "    <tr style=\"text-align: right;\">\n",
       "      <th></th>\n",
       "      <th>标题</th>\n",
       "      <th>导演</th>\n",
       "      <th>评分</th>\n",
       "      <th>人数</th>\n",
       "      <th>年份</th>\n",
       "      <th>片长</th>\n",
       "      <th>类型</th>\n",
       "      <th>国家</th>\n",
       "      <th>语言</th>\n",
       "      <th>简介</th>\n",
       "      <th>IMDB</th>\n",
       "      <th>豆瓣id</th>\n",
       "    </tr>\n",
       "  </thead>\n",
       "  <tbody>\n",
       "    <tr>\n",
       "      <th>0</th>\n",
       "      <td>肖申克的救赎</td>\n",
       "      <td>弗兰克·德拉邦特</td>\n",
       "      <td>9.7</td>\n",
       "      <td>2996612</td>\n",
       "      <td>1994</td>\n",
       "      <td>142</td>\n",
       "      <td>犯罪 剧情</td>\n",
       "      <td>美国</td>\n",
       "      <td>英语</td>\n",
       "      <td>希望让人自由。</td>\n",
       "      <td>tt0111161</td>\n",
       "      <td>1292052</td>\n",
       "    </tr>\n",
       "    <tr>\n",
       "      <th>1</th>\n",
       "      <td>霸王别姬</td>\n",
       "      <td>陈凯歌</td>\n",
       "      <td>9.6</td>\n",
       "      <td>2214093</td>\n",
       "      <td>1993</td>\n",
       "      <td>171</td>\n",
       "      <td>剧情 爱情 同性</td>\n",
       "      <td>中国大陆 中国香港</td>\n",
       "      <td>汉语普通话</td>\n",
       "      <td>风华绝代。</td>\n",
       "      <td>tt0106332</td>\n",
       "      <td>1291546</td>\n",
       "    </tr>\n",
       "    <tr>\n",
       "      <th>2</th>\n",
       "      <td>阿甘正传</td>\n",
       "      <td>罗伯特·泽米吉斯</td>\n",
       "      <td>9.5</td>\n",
       "      <td>2232840</td>\n",
       "      <td>1994</td>\n",
       "      <td>142</td>\n",
       "      <td>剧情 爱情</td>\n",
       "      <td>美国</td>\n",
       "      <td>英语</td>\n",
       "      <td>一部美国近现代史。</td>\n",
       "      <td>tt0109830</td>\n",
       "      <td>1292720</td>\n",
       "    </tr>\n",
       "  </tbody>\n",
       "</table>\n",
       "</div>"
      ],
      "text/plain": [
       "       标题        导演   评分       人数    年份   片长        类型         国家     语言  \\\n",
       "0  肖申克的救赎  弗兰克·德拉邦特  9.7  2996612  1994  142     犯罪 剧情         美国     英语   \n",
       "1    霸王别姬       陈凯歌  9.6  2214093  1993  171  剧情 爱情 同性  中国大陆 中国香港  汉语普通话   \n",
       "2    阿甘正传  罗伯特·泽米吉斯  9.5  2232840  1994  142     剧情 爱情         美国     英语   \n",
       "\n",
       "          简介       IMDB     豆瓣id  \n",
       "0    希望让人自由。  tt0111161  1292052  \n",
       "1      风华绝代。  tt0106332  1291546  \n",
       "2  一部美国近现代史。  tt0109830  1292720  "
      ]
     },
     "execution_count": 2,
     "metadata": {},
     "output_type": "execute_result"
    }
   ],
   "source": [
    "df = pd.read_csv(\"movie_top100.csv\", encoding=\"GB18030\") # DataFrame\n",
    "df.head(3)"
   ]
  },
  {
   "cell_type": "code",
   "execution_count": 3,
   "metadata": {},
   "outputs": [
    {
     "data": {
      "text/html": [
       "<div>\n",
       "<style scoped>\n",
       "    .dataframe tbody tr th:only-of-type {\n",
       "        vertical-align: middle;\n",
       "    }\n",
       "\n",
       "    .dataframe tbody tr th {\n",
       "        vertical-align: top;\n",
       "    }\n",
       "\n",
       "    .dataframe thead th {\n",
       "        text-align: right;\n",
       "    }\n",
       "</style>\n",
       "<table border=\"1\" class=\"dataframe\">\n",
       "  <thead>\n",
       "    <tr style=\"text-align: right;\">\n",
       "      <th></th>\n",
       "      <th>标题</th>\n",
       "      <th>导演</th>\n",
       "      <th>评分</th>\n",
       "      <th>人数</th>\n",
       "      <th>年份</th>\n",
       "      <th>片长</th>\n",
       "      <th>类型</th>\n",
       "      <th>国家</th>\n",
       "      <th>语言</th>\n",
       "    </tr>\n",
       "  </thead>\n",
       "  <tbody>\n",
       "    <tr>\n",
       "      <th>95</th>\n",
       "      <td>七宗罪</td>\n",
       "      <td>大卫·芬奇</td>\n",
       "      <td>8.8</td>\n",
       "      <td>970941</td>\n",
       "      <td>1995</td>\n",
       "      <td>127</td>\n",
       "      <td>剧情 犯罪 悬疑 惊悚</td>\n",
       "      <td>美国</td>\n",
       "      <td>英语</td>\n",
       "    </tr>\n",
       "    <tr>\n",
       "      <th>96</th>\n",
       "      <td>加勒比海盗</td>\n",
       "      <td>戈尔·维宾斯基</td>\n",
       "      <td>8.8</td>\n",
       "      <td>889915</td>\n",
       "      <td>2003</td>\n",
       "      <td>143</td>\n",
       "      <td>动作 冒险 奇幻</td>\n",
       "      <td>美国</td>\n",
       "      <td>英语</td>\n",
       "    </tr>\n",
       "    <tr>\n",
       "      <th>97</th>\n",
       "      <td>一一</td>\n",
       "      <td>杨德昌</td>\n",
       "      <td>9.1</td>\n",
       "      <td>418113</td>\n",
       "      <td>2000</td>\n",
       "      <td>173</td>\n",
       "      <td>剧情 爱情 家庭</td>\n",
       "      <td>中国台湾 日本</td>\n",
       "      <td>汉语普通话 闽南语 英语 日语</td>\n",
       "    </tr>\n",
       "    <tr>\n",
       "      <th>98</th>\n",
       "      <td>狩猎</td>\n",
       "      <td>托马斯·温特伯格</td>\n",
       "      <td>9.1</td>\n",
       "      <td>410743</td>\n",
       "      <td>2012</td>\n",
       "      <td>115</td>\n",
       "      <td>剧情</td>\n",
       "      <td>丹麦 瑞典</td>\n",
       "      <td>丹麦语 英语 波兰语</td>\n",
       "    </tr>\n",
       "    <tr>\n",
       "      <th>99</th>\n",
       "      <td>唐伯虎点秋香</td>\n",
       "      <td>李力持</td>\n",
       "      <td>8.7</td>\n",
       "      <td>1119632</td>\n",
       "      <td>1993</td>\n",
       "      <td>102</td>\n",
       "      <td>喜剧 爱情 古装</td>\n",
       "      <td>中国香港</td>\n",
       "      <td>粤语</td>\n",
       "    </tr>\n",
       "  </tbody>\n",
       "</table>\n",
       "</div>"
      ],
      "text/plain": [
       "        标题        导演   评分       人数    年份   片长           类型       国家  \\\n",
       "95     七宗罪     大卫·芬奇  8.8   970941  1995  127  剧情 犯罪 悬疑 惊悚       美国   \n",
       "96   加勒比海盗   戈尔·维宾斯基  8.8   889915  2003  143     动作 冒险 奇幻       美国   \n",
       "97      一一       杨德昌  9.1   418113  2000  173     剧情 爱情 家庭  中国台湾 日本   \n",
       "98      狩猎  托马斯·温特伯格  9.1   410743  2012  115           剧情    丹麦 瑞典   \n",
       "99  唐伯虎点秋香       李力持  8.7  1119632  1993  102     喜剧 爱情 古装     中国香港   \n",
       "\n",
       "                 语言  \n",
       "95               英语  \n",
       "96               英语  \n",
       "97  汉语普通话 闽南语 英语 日语  \n",
       "98       丹麦语 英语 波兰语  \n",
       "99               粤语  "
      ]
     },
     "execution_count": 3,
     "metadata": {},
     "output_type": "execute_result"
    }
   ],
   "source": [
    "df = df.iloc[:, :-3]\n",
    "df.tail()"
   ]
  },
  {
   "cell_type": "code",
   "execution_count": 4,
   "metadata": {},
   "outputs": [
    {
     "data": {
      "text/plain": [
       "标题         霸王别姬\n",
       "导演          陈凯歌\n",
       "评分          9.6\n",
       "人数      2214093\n",
       "年份         1993\n",
       "片长          171\n",
       "类型     剧情 爱情 同性\n",
       "国家    中国大陆 中国香港\n",
       "语言        汉语普通话\n",
       "Name: 1, dtype: object"
      ]
     },
     "execution_count": 4,
     "metadata": {},
     "output_type": "execute_result"
    }
   ],
   "source": [
    "df.iloc[1]"
   ]
  },
  {
   "cell_type": "code",
   "execution_count": 5,
   "metadata": {},
   "outputs": [
    {
     "data": {
      "text/plain": [
       "标题         霸王别姬\n",
       "导演          陈凯歌\n",
       "评分          9.6\n",
       "人数      2214093\n",
       "年份         1993\n",
       "片长          171\n",
       "类型     剧情 爱情 同性\n",
       "国家    中国大陆 中国香港\n",
       "语言        汉语普通话\n",
       "Name: 1, dtype: object"
      ]
     },
     "execution_count": 5,
     "metadata": {},
     "output_type": "execute_result"
    }
   ],
   "source": [
    "df.loc[1]"
   ]
  },
  {
   "cell_type": "code",
   "execution_count": 6,
   "metadata": {},
   "outputs": [
    {
     "data": {
      "text/plain": [
       "RangeIndex(start=0, stop=100, step=1)"
      ]
     },
     "execution_count": 6,
     "metadata": {},
     "output_type": "execute_result"
    }
   ],
   "source": [
    "df.index"
   ]
  },
  {
   "cell_type": "code",
   "execution_count": 7,
   "metadata": {},
   "outputs": [
    {
     "data": {
      "text/html": [
       "<div>\n",
       "<style scoped>\n",
       "    .dataframe tbody tr th:only-of-type {\n",
       "        vertical-align: middle;\n",
       "    }\n",
       "\n",
       "    .dataframe tbody tr th {\n",
       "        vertical-align: top;\n",
       "    }\n",
       "\n",
       "    .dataframe thead th {\n",
       "        text-align: right;\n",
       "    }\n",
       "</style>\n",
       "<table border=\"1\" class=\"dataframe\">\n",
       "  <thead>\n",
       "    <tr style=\"text-align: right;\">\n",
       "      <th></th>\n",
       "      <th>标题</th>\n",
       "      <th>导演</th>\n",
       "      <th>评分</th>\n",
       "      <th>人数</th>\n",
       "      <th>年份</th>\n",
       "      <th>片长</th>\n",
       "      <th>类型</th>\n",
       "      <th>国家</th>\n",
       "      <th>语言</th>\n",
       "    </tr>\n",
       "    <tr>\n",
       "      <th>排名</th>\n",
       "      <th></th>\n",
       "      <th></th>\n",
       "      <th></th>\n",
       "      <th></th>\n",
       "      <th></th>\n",
       "      <th></th>\n",
       "      <th></th>\n",
       "      <th></th>\n",
       "      <th></th>\n",
       "    </tr>\n",
       "  </thead>\n",
       "  <tbody>\n",
       "    <tr>\n",
       "      <th>1</th>\n",
       "      <td>肖申克的救赎</td>\n",
       "      <td>弗兰克·德拉邦特</td>\n",
       "      <td>9.7</td>\n",
       "      <td>2996612</td>\n",
       "      <td>1994</td>\n",
       "      <td>142</td>\n",
       "      <td>犯罪 剧情</td>\n",
       "      <td>美国</td>\n",
       "      <td>英语</td>\n",
       "    </tr>\n",
       "    <tr>\n",
       "      <th>2</th>\n",
       "      <td>霸王别姬</td>\n",
       "      <td>陈凯歌</td>\n",
       "      <td>9.6</td>\n",
       "      <td>2214093</td>\n",
       "      <td>1993</td>\n",
       "      <td>171</td>\n",
       "      <td>剧情 爱情 同性</td>\n",
       "      <td>中国大陆 中国香港</td>\n",
       "      <td>汉语普通话</td>\n",
       "    </tr>\n",
       "    <tr>\n",
       "      <th>3</th>\n",
       "      <td>阿甘正传</td>\n",
       "      <td>罗伯特·泽米吉斯</td>\n",
       "      <td>9.5</td>\n",
       "      <td>2232840</td>\n",
       "      <td>1994</td>\n",
       "      <td>142</td>\n",
       "      <td>剧情 爱情</td>\n",
       "      <td>美国</td>\n",
       "      <td>英语</td>\n",
       "    </tr>\n",
       "    <tr>\n",
       "      <th>4</th>\n",
       "      <td>泰坦尼克号</td>\n",
       "      <td>詹姆斯·卡梅隆</td>\n",
       "      <td>9.5</td>\n",
       "      <td>2270268</td>\n",
       "      <td>1997</td>\n",
       "      <td>194</td>\n",
       "      <td>剧情 爱情 灾难</td>\n",
       "      <td>美国 墨西哥</td>\n",
       "      <td>英语 意大利语 德语 俄语</td>\n",
       "    </tr>\n",
       "    <tr>\n",
       "      <th>5</th>\n",
       "      <td>千与千寻</td>\n",
       "      <td>宫崎骏</td>\n",
       "      <td>9.4</td>\n",
       "      <td>2315808</td>\n",
       "      <td>2001</td>\n",
       "      <td>125</td>\n",
       "      <td>剧情 动画 奇幻</td>\n",
       "      <td>日本</td>\n",
       "      <td>日语</td>\n",
       "    </tr>\n",
       "  </tbody>\n",
       "</table>\n",
       "</div>"
      ],
      "text/plain": [
       "        标题        导演   评分       人数    年份   片长        类型         国家  \\\n",
       "排名                                                                   \n",
       "1   肖申克的救赎  弗兰克·德拉邦特  9.7  2996612  1994  142     犯罪 剧情         美国   \n",
       "2     霸王别姬       陈凯歌  9.6  2214093  1993  171  剧情 爱情 同性  中国大陆 中国香港   \n",
       "3     阿甘正传  罗伯特·泽米吉斯  9.5  2232840  1994  142     剧情 爱情         美国   \n",
       "4    泰坦尼克号   詹姆斯·卡梅隆  9.5  2270268  1997  194  剧情 爱情 灾难     美国 墨西哥   \n",
       "5     千与千寻       宫崎骏  9.4  2315808  2001  125  剧情 动画 奇幻         日本   \n",
       "\n",
       "               语言  \n",
       "排名                 \n",
       "1              英语  \n",
       "2           汉语普通话  \n",
       "3              英语  \n",
       "4   英语 意大利语 德语 俄语  \n",
       "5              日语  "
      ]
     },
     "execution_count": 7,
     "metadata": {},
     "output_type": "execute_result"
    }
   ],
   "source": [
    "df.index = np.arange(1, 101)\n",
    "df.index.name = \"排名\"\n",
    "df.head()"
   ]
  },
  {
   "cell_type": "code",
   "execution_count": 8,
   "metadata": {},
   "outputs": [
    {
     "data": {
      "text/plain": [
       "'霸王别姬'"
      ]
     },
     "execution_count": 8,
     "metadata": {},
     "output_type": "execute_result"
    }
   ],
   "source": [
    "df.iloc[1, 0]"
   ]
  },
  {
   "cell_type": "code",
   "execution_count": 9,
   "metadata": {},
   "outputs": [
    {
     "data": {
      "text/plain": [
       "'肖申克的救赎'"
      ]
     },
     "execution_count": 9,
     "metadata": {},
     "output_type": "execute_result"
    }
   ],
   "source": [
    "df.loc[1, \"标题\"]"
   ]
  },
  {
   "cell_type": "code",
   "execution_count": 10,
   "metadata": {},
   "outputs": [
    {
     "data": {
      "text/plain": [
       "排名\n",
       "1      弗兰克·德拉邦特\n",
       "2           陈凯歌\n",
       "3      罗伯特·泽米吉斯\n",
       "4       詹姆斯·卡梅隆\n",
       "5           宫崎骏\n",
       "         ...   \n",
       "96        大卫·芬奇\n",
       "97      戈尔·维宾斯基\n",
       "98          杨德昌\n",
       "99     托马斯·温特伯格\n",
       "100         李力持\n",
       "Name: 导演, Length: 100, dtype: object"
      ]
     },
     "execution_count": 10,
     "metadata": {},
     "output_type": "execute_result"
    }
   ],
   "source": [
    "df[\"导演\"]"
   ]
  },
  {
   "cell_type": "code",
   "execution_count": 11,
   "metadata": {},
   "outputs": [
    {
     "data": {
      "text/plain": [
       "pandas.core.series.Series"
      ]
     },
     "execution_count": 11,
     "metadata": {},
     "output_type": "execute_result"
    }
   ],
   "source": [
    "type(df[\"导演\"])"
   ]
  },
  {
   "cell_type": "code",
   "execution_count": 12,
   "metadata": {},
   "outputs": [
    {
     "data": {
      "text/plain": [
       "9.7"
      ]
     },
     "execution_count": 12,
     "metadata": {},
     "output_type": "execute_result"
    }
   ],
   "source": [
    "df[\"评分\"].max()"
   ]
  },
  {
   "cell_type": "code",
   "execution_count": 13,
   "metadata": {},
   "outputs": [
    {
     "data": {
      "text/html": [
       "<div>\n",
       "<style scoped>\n",
       "    .dataframe tbody tr th:only-of-type {\n",
       "        vertical-align: middle;\n",
       "    }\n",
       "\n",
       "    .dataframe tbody tr th {\n",
       "        vertical-align: top;\n",
       "    }\n",
       "\n",
       "    .dataframe thead th {\n",
       "        text-align: right;\n",
       "    }\n",
       "</style>\n",
       "<table border=\"1\" class=\"dataframe\">\n",
       "  <thead>\n",
       "    <tr style=\"text-align: right;\">\n",
       "      <th></th>\n",
       "      <th>标题</th>\n",
       "      <th>导演</th>\n",
       "      <th>评分</th>\n",
       "      <th>人数</th>\n",
       "      <th>年份</th>\n",
       "      <th>片长</th>\n",
       "      <th>类型</th>\n",
       "      <th>国家</th>\n",
       "      <th>语言</th>\n",
       "    </tr>\n",
       "    <tr>\n",
       "      <th>排名</th>\n",
       "      <th></th>\n",
       "      <th></th>\n",
       "      <th></th>\n",
       "      <th></th>\n",
       "      <th></th>\n",
       "      <th></th>\n",
       "      <th></th>\n",
       "      <th></th>\n",
       "      <th></th>\n",
       "    </tr>\n",
       "  </thead>\n",
       "  <tbody>\n",
       "    <tr>\n",
       "      <th>1</th>\n",
       "      <td>肖申克的救赎</td>\n",
       "      <td>弗兰克·德拉邦特</td>\n",
       "      <td>9.7</td>\n",
       "      <td>2996612</td>\n",
       "      <td>1994</td>\n",
       "      <td>142</td>\n",
       "      <td>犯罪 剧情</td>\n",
       "      <td>美国</td>\n",
       "      <td>英语</td>\n",
       "    </tr>\n",
       "  </tbody>\n",
       "</table>\n",
       "</div>"
      ],
      "text/plain": [
       "        标题        导演   评分       人数    年份   片长     类型  国家  语言\n",
       "排名                                                          \n",
       "1   肖申克的救赎  弗兰克·德拉邦特  9.7  2996612  1994  142  犯罪 剧情  美国  英语"
      ]
     },
     "execution_count": 13,
     "metadata": {},
     "output_type": "execute_result"
    }
   ],
   "source": [
    "df[df[\"评分\"] == df[\"评分\"].max()]"
   ]
  },
  {
   "cell_type": "code",
   "execution_count": 14,
   "metadata": {},
   "outputs": [
    {
     "data": {
      "text/html": [
       "<div>\n",
       "<style scoped>\n",
       "    .dataframe tbody tr th:only-of-type {\n",
       "        vertical-align: middle;\n",
       "    }\n",
       "\n",
       "    .dataframe tbody tr th {\n",
       "        vertical-align: top;\n",
       "    }\n",
       "\n",
       "    .dataframe thead th {\n",
       "        text-align: right;\n",
       "    }\n",
       "</style>\n",
       "<table border=\"1\" class=\"dataframe\">\n",
       "  <thead>\n",
       "    <tr style=\"text-align: right;\">\n",
       "      <th></th>\n",
       "      <th>标题</th>\n",
       "      <th>导演</th>\n",
       "      <th>评分</th>\n",
       "      <th>人数</th>\n",
       "      <th>年份</th>\n",
       "      <th>片长</th>\n",
       "      <th>类型</th>\n",
       "      <th>国家</th>\n",
       "      <th>语言</th>\n",
       "    </tr>\n",
       "    <tr>\n",
       "      <th>排名</th>\n",
       "      <th></th>\n",
       "      <th></th>\n",
       "      <th></th>\n",
       "      <th></th>\n",
       "      <th></th>\n",
       "      <th></th>\n",
       "      <th></th>\n",
       "      <th></th>\n",
       "      <th></th>\n",
       "    </tr>\n",
       "  </thead>\n",
       "  <tbody>\n",
       "    <tr>\n",
       "      <th>1</th>\n",
       "      <td>肖申克的救赎</td>\n",
       "      <td>弗兰克·德拉邦特</td>\n",
       "      <td>9.7</td>\n",
       "      <td>2996612</td>\n",
       "      <td>1994</td>\n",
       "      <td>142</td>\n",
       "      <td>犯罪 剧情</td>\n",
       "      <td>美国</td>\n",
       "      <td>英语</td>\n",
       "    </tr>\n",
       "  </tbody>\n",
       "</table>\n",
       "</div>"
      ],
      "text/plain": [
       "        标题        导演   评分       人数    年份   片长     类型  国家  语言\n",
       "排名                                                          \n",
       "1   肖申克的救赎  弗兰克·德拉邦特  9.7  2996612  1994  142  犯罪 剧情  美国  英语"
      ]
     },
     "execution_count": 14,
     "metadata": {},
     "output_type": "execute_result"
    }
   ],
   "source": [
    "df[df[\"人数\"] == df[\"人数\"].max()]"
   ]
  },
  {
   "cell_type": "code",
   "execution_count": 15,
   "metadata": {},
   "outputs": [
    {
     "data": {
      "text/html": [
       "<div>\n",
       "<style scoped>\n",
       "    .dataframe tbody tr th:only-of-type {\n",
       "        vertical-align: middle;\n",
       "    }\n",
       "\n",
       "    .dataframe tbody tr th {\n",
       "        vertical-align: top;\n",
       "    }\n",
       "\n",
       "    .dataframe thead th {\n",
       "        text-align: right;\n",
       "    }\n",
       "</style>\n",
       "<table border=\"1\" class=\"dataframe\">\n",
       "  <thead>\n",
       "    <tr style=\"text-align: right;\">\n",
       "      <th></th>\n",
       "      <th>标题</th>\n",
       "      <th>导演</th>\n",
       "      <th>评分</th>\n",
       "      <th>人数</th>\n",
       "      <th>年份</th>\n",
       "      <th>片长</th>\n",
       "      <th>类型</th>\n",
       "      <th>国家</th>\n",
       "      <th>语言</th>\n",
       "    </tr>\n",
       "    <tr>\n",
       "      <th>排名</th>\n",
       "      <th></th>\n",
       "      <th></th>\n",
       "      <th></th>\n",
       "      <th></th>\n",
       "      <th></th>\n",
       "      <th></th>\n",
       "      <th></th>\n",
       "      <th></th>\n",
       "      <th></th>\n",
       "    </tr>\n",
       "  </thead>\n",
       "  <tbody>\n",
       "    <tr>\n",
       "      <th>34</th>\n",
       "      <td>乱世佳人</td>\n",
       "      <td>维克多·弗莱明</td>\n",
       "      <td>9.3</td>\n",
       "      <td>716038</td>\n",
       "      <td>1939</td>\n",
       "      <td>233</td>\n",
       "      <td>剧情 历史 爱情 战争</td>\n",
       "      <td>美国</td>\n",
       "      <td>英语</td>\n",
       "    </tr>\n",
       "  </tbody>\n",
       "</table>\n",
       "</div>"
      ],
      "text/plain": [
       "      标题       导演   评分      人数    年份   片长           类型  国家  语言\n",
       "排名                                                            \n",
       "34  乱世佳人  维克多·弗莱明  9.3  716038  1939  233  剧情 历史 爱情 战争  美国  英语"
      ]
     },
     "execution_count": 15,
     "metadata": {},
     "output_type": "execute_result"
    }
   ],
   "source": [
    "df[df[\"片长\"] == df[\"片长\"].max()]"
   ]
  },
  {
   "cell_type": "code",
   "execution_count": 16,
   "metadata": {},
   "outputs": [
    {
     "data": {
      "text/plain": [
       "导演\n",
       "宫崎骏         4\n",
       "克里斯托弗·诺兰    4\n",
       "彼得·杰克逊      3\n",
       "朱塞佩·托纳多雷    3\n",
       "大卫·芬奇       3\n",
       "           ..\n",
       "陈凯歌         1\n",
       "马丁·布莱斯      1\n",
       "彼得·法雷里      1\n",
       "威廉·惠勒       1\n",
       "李力持         1\n",
       "Name: count, Length: 78, dtype: int64"
      ]
     },
     "execution_count": 16,
     "metadata": {},
     "output_type": "execute_result"
    }
   ],
   "source": [
    "df[\"导演\"].value_counts()"
   ]
  },
  {
   "cell_type": "code",
   "execution_count": 17,
   "metadata": {},
   "outputs": [
    {
     "data": {
      "text/plain": [
       "pandas.core.series.Series"
      ]
     },
     "execution_count": 17,
     "metadata": {},
     "output_type": "execute_result"
    }
   ],
   "source": [
    "type(df[\"导演\"].value_counts())"
   ]
  },
  {
   "cell_type": "code",
   "execution_count": 18,
   "metadata": {},
   "outputs": [
    {
     "data": {
      "text/plain": [
       "Index(['宫崎骏', '克里斯托弗·诺兰'], dtype='object', name='导演')"
      ]
     },
     "execution_count": 18,
     "metadata": {},
     "output_type": "execute_result"
    }
   ],
   "source": [
    "director_counts = df[\"导演\"].value_counts()\n",
    "max_count = director_counts.max()\n",
    "director_counts[director_counts == max_count].index"
   ]
  },
  {
   "cell_type": "code",
   "execution_count": 19,
   "metadata": {},
   "outputs": [
    {
     "data": {
      "text/html": [
       "<div>\n",
       "<style scoped>\n",
       "    .dataframe tbody tr th:only-of-type {\n",
       "        vertical-align: middle;\n",
       "    }\n",
       "\n",
       "    .dataframe tbody tr th {\n",
       "        vertical-align: top;\n",
       "    }\n",
       "\n",
       "    .dataframe thead th {\n",
       "        text-align: right;\n",
       "    }\n",
       "</style>\n",
       "<table border=\"1\" class=\"dataframe\">\n",
       "  <thead>\n",
       "    <tr style=\"text-align: right;\">\n",
       "      <th></th>\n",
       "      <th>标题</th>\n",
       "      <th>导演</th>\n",
       "      <th>评分</th>\n",
       "      <th>人数</th>\n",
       "      <th>年份</th>\n",
       "      <th>片长</th>\n",
       "      <th>类型</th>\n",
       "      <th>国家</th>\n",
       "      <th>语言</th>\n",
       "    </tr>\n",
       "    <tr>\n",
       "      <th>排名</th>\n",
       "      <th></th>\n",
       "      <th></th>\n",
       "      <th></th>\n",
       "      <th></th>\n",
       "      <th></th>\n",
       "      <th></th>\n",
       "      <th></th>\n",
       "      <th></th>\n",
       "      <th></th>\n",
       "    </tr>\n",
       "  </thead>\n",
       "  <tbody>\n",
       "    <tr>\n",
       "      <th>5</th>\n",
       "      <td>千与千寻</td>\n",
       "      <td>宫崎骏</td>\n",
       "      <td>9.4</td>\n",
       "      <td>2315808</td>\n",
       "      <td>2001</td>\n",
       "      <td>125</td>\n",
       "      <td>剧情 动画 奇幻</td>\n",
       "      <td>日本</td>\n",
       "      <td>日语</td>\n",
       "    </tr>\n",
       "    <tr>\n",
       "      <th>8</th>\n",
       "      <td>星际穿越</td>\n",
       "      <td>克里斯托弗·诺兰</td>\n",
       "      <td>9.4</td>\n",
       "      <td>1929994</td>\n",
       "      <td>2014</td>\n",
       "      <td>169</td>\n",
       "      <td>剧情 科幻 冒险</td>\n",
       "      <td>美国 英国 加拿大</td>\n",
       "      <td>英语</td>\n",
       "    </tr>\n",
       "    <tr>\n",
       "      <th>9</th>\n",
       "      <td>盗梦空间</td>\n",
       "      <td>克里斯托弗·诺兰</td>\n",
       "      <td>9.4</td>\n",
       "      <td>2136107</td>\n",
       "      <td>2010</td>\n",
       "      <td>148</td>\n",
       "      <td>剧情 科幻 悬疑 冒险</td>\n",
       "      <td>美国 英国</td>\n",
       "      <td>英语 日语 法语</td>\n",
       "    </tr>\n",
       "    <tr>\n",
       "      <th>27</th>\n",
       "      <td>龙猫</td>\n",
       "      <td>宫崎骏</td>\n",
       "      <td>9.2</td>\n",
       "      <td>1304971</td>\n",
       "      <td>1988</td>\n",
       "      <td>86</td>\n",
       "      <td>动画 奇幻 冒险</td>\n",
       "      <td>日本</td>\n",
       "      <td>日语</td>\n",
       "    </tr>\n",
       "    <tr>\n",
       "      <th>31</th>\n",
       "      <td>蝙蝠侠：黑暗骑士</td>\n",
       "      <td>克里斯托弗·诺兰</td>\n",
       "      <td>9.2</td>\n",
       "      <td>1098748</td>\n",
       "      <td>2008</td>\n",
       "      <td>152</td>\n",
       "      <td>剧情 动作 科幻 犯罪 惊悚</td>\n",
       "      <td>美国 英国</td>\n",
       "      <td>英语 汉语普通话</td>\n",
       "    </tr>\n",
       "    <tr>\n",
       "      <th>38</th>\n",
       "      <td>哈尔的移动城堡</td>\n",
       "      <td>宫崎骏</td>\n",
       "      <td>9.1</td>\n",
       "      <td>1066497</td>\n",
       "      <td>2004</td>\n",
       "      <td>119</td>\n",
       "      <td>爱情 动画 奇幻 冒险</td>\n",
       "      <td>日本</td>\n",
       "      <td>日语</td>\n",
       "    </tr>\n",
       "    <tr>\n",
       "      <th>43</th>\n",
       "      <td>天空之城</td>\n",
       "      <td>宫崎骏</td>\n",
       "      <td>9.2</td>\n",
       "      <td>911598</td>\n",
       "      <td>1986</td>\n",
       "      <td>125</td>\n",
       "      <td>动画 奇幻 冒险</td>\n",
       "      <td>日本</td>\n",
       "      <td>日语</td>\n",
       "    </tr>\n",
       "    <tr>\n",
       "      <th>83</th>\n",
       "      <td>致命魔术</td>\n",
       "      <td>克里斯托弗·诺兰</td>\n",
       "      <td>8.9</td>\n",
       "      <td>889991</td>\n",
       "      <td>2006</td>\n",
       "      <td>130</td>\n",
       "      <td>剧情 悬疑 惊悚</td>\n",
       "      <td>英国 美国</td>\n",
       "      <td>英语</td>\n",
       "    </tr>\n",
       "  </tbody>\n",
       "</table>\n",
       "</div>"
      ],
      "text/plain": [
       "          标题        导演   评分       人数    年份   片长              类型         国家  \\\n",
       "排名                                                                           \n",
       "5       千与千寻       宫崎骏  9.4  2315808  2001  125        剧情 动画 奇幻         日本   \n",
       "8       星际穿越  克里斯托弗·诺兰  9.4  1929994  2014  169        剧情 科幻 冒险  美国 英国 加拿大   \n",
       "9       盗梦空间  克里斯托弗·诺兰  9.4  2136107  2010  148     剧情 科幻 悬疑 冒险      美国 英国   \n",
       "27        龙猫       宫崎骏  9.2  1304971  1988   86        动画 奇幻 冒险         日本   \n",
       "31  蝙蝠侠：黑暗骑士  克里斯托弗·诺兰  9.2  1098748  2008  152  剧情 动作 科幻 犯罪 惊悚      美国 英国   \n",
       "38   哈尔的移动城堡       宫崎骏  9.1  1066497  2004  119     爱情 动画 奇幻 冒险         日本   \n",
       "43      天空之城       宫崎骏  9.2   911598  1986  125        动画 奇幻 冒险         日本   \n",
       "83      致命魔术  克里斯托弗·诺兰  8.9   889991  2006  130        剧情 悬疑 惊悚      英国 美国   \n",
       "\n",
       "          语言  \n",
       "排名            \n",
       "5         日语  \n",
       "8         英语  \n",
       "9   英语 日语 法语  \n",
       "27        日语  \n",
       "31  英语 汉语普通话  \n",
       "38        日语  \n",
       "43        日语  \n",
       "83        英语  "
      ]
     },
     "execution_count": 19,
     "metadata": {},
     "output_type": "execute_result"
    }
   ],
   "source": [
    "directors = director_counts[director_counts == max_count].index\n",
    "df[df[\"导演\"].isin(directors)]"
   ]
  },
  {
   "cell_type": "code",
   "execution_count": 20,
   "metadata": {},
   "outputs": [
    {
     "data": {
      "text/plain": [
       "年份\n",
       "1994    7\n",
       "1997    5\n",
       "2009    5\n",
       "2004    5\n",
       "2002    5\n",
       "Name: count, dtype: int64"
      ]
     },
     "execution_count": 20,
     "metadata": {},
     "output_type": "execute_result"
    }
   ],
   "source": [
    "df[\"年份\"].value_counts().head(5)"
   ]
  },
  {
   "cell_type": "code",
   "execution_count": 21,
   "metadata": {},
   "outputs": [
    {
     "data": {
      "text/plain": [
       "排名\n",
       "1             美国\n",
       "2      中国大陆 中国香港\n",
       "3             美国\n",
       "4         美国 墨西哥\n",
       "5             日本\n",
       "         ...    \n",
       "96            美国\n",
       "97            美国\n",
       "98       中国台湾 日本\n",
       "99         丹麦 瑞典\n",
       "100         中国香港\n",
       "Name: 国家, Length: 100, dtype: object"
      ]
     },
     "execution_count": 21,
     "metadata": {},
     "output_type": "execute_result"
    }
   ],
   "source": [
    "df[\"国家\"]"
   ]
  },
  {
   "cell_type": "code",
   "execution_count": 22,
   "metadata": {},
   "outputs": [
    {
     "data": {
      "text/plain": [
       "{'美国': 61,\n",
       " '英国': 16,\n",
       " '中国大陆': 11,\n",
       " '中国香港': 10,\n",
       " '日本': 8,\n",
       " '法国': 7,\n",
       " '意大利': 6,\n",
       " '韩国': 5,\n",
       " '德国': 5,\n",
       " '加拿大': 4,\n",
       " '新西兰': 3,\n",
       " '中国台湾': 3,\n",
       " '印度': 2,\n",
       " '瑞士': 2,\n",
       " '墨西哥': 1,\n",
       " '黎巴嫩': 1,\n",
       " '塞浦路斯': 1,\n",
       " '卡塔尔': 1,\n",
       " '波兰': 1,\n",
       " '西班牙': 1,\n",
       " '伊朗': 1,\n",
       " '丹麦': 1,\n",
       " '瑞典': 1}"
      ]
     },
     "execution_count": 22,
     "metadata": {},
     "output_type": "execute_result"
    }
   ],
   "source": [
    "df[\"国家\"].str.split().explode().value_counts().to_dict()"
   ]
  },
  {
   "cell_type": "code",
   "execution_count": 23,
   "metadata": {},
   "outputs": [
    {
     "data": {
      "text/plain": [
       "{'剧情': 80,\n",
       " '喜剧': 21,\n",
       " '冒险': 21,\n",
       " '爱情': 20,\n",
       " '奇幻': 19,\n",
       " '犯罪': 16,\n",
       " '惊悚': 12,\n",
       " '悬疑': 12,\n",
       " '动作': 12,\n",
       " '动画': 11,\n",
       " '科幻': 9,\n",
       " '传记': 8,\n",
       " '家庭': 7,\n",
       " '战争': 7,\n",
       " '音乐': 5,\n",
       " '历史': 4,\n",
       " '古装': 4,\n",
       " '歌舞': 3,\n",
       " '同性': 2,\n",
       " '灾难': 1,\n",
       " '西部': 1,\n",
       " '运动': 1,\n",
       " '情色': 1,\n",
       " '儿童': 1,\n",
       " '纪录片': 1}"
      ]
     },
     "execution_count": 23,
     "metadata": {},
     "output_type": "execute_result"
    }
   ],
   "source": [
    "df[\"类型\"].str.split().explode().value_counts().to_dict()"
   ]
  },
  {
   "cell_type": "code",
   "execution_count": 24,
   "metadata": {},
   "outputs": [
    {
     "data": {
      "text/plain": [
       "[{'name': '剧情', 'value': 80},\n",
       " {'name': '喜剧', 'value': 21},\n",
       " {'name': '冒险', 'value': 21},\n",
       " {'name': '爱情', 'value': 20},\n",
       " {'name': '奇幻', 'value': 19},\n",
       " {'name': '犯罪', 'value': 16},\n",
       " {'name': '惊悚', 'value': 12},\n",
       " {'name': '悬疑', 'value': 12},\n",
       " {'name': '动作', 'value': 12},\n",
       " {'name': '动画', 'value': 11},\n",
       " {'name': '科幻', 'value': 9},\n",
       " {'name': '传记', 'value': 8},\n",
       " {'name': '家庭', 'value': 7},\n",
       " {'name': '战争', 'value': 7},\n",
       " {'name': '音乐', 'value': 5},\n",
       " {'name': '历史', 'value': 4},\n",
       " {'name': '古装', 'value': 4},\n",
       " {'name': '歌舞', 'value': 3},\n",
       " {'name': '同性', 'value': 2},\n",
       " {'name': '灾难', 'value': 1},\n",
       " {'name': '西部', 'value': 1},\n",
       " {'name': '运动', 'value': 1},\n",
       " {'name': '情色', 'value': 1},\n",
       " {'name': '儿童', 'value': 1},\n",
       " {'name': '纪录片', 'value': 1}]"
      ]
     },
     "execution_count": 24,
     "metadata": {},
     "output_type": "execute_result"
    }
   ],
   "source": [
    "def dict_to_echarts_data(d: dict) -> list:\n",
    "    data = []\n",
    "    for key, value in d.items():\n",
    "        data.append({\"name\": key, \"value\": value})\n",
    "    return data\n",
    "\n",
    "genre_dict = df[\"类型\"].str.split().explode().value_counts().to_dict()\n",
    "dict_to_echarts_data(genre_dict)"
   ]
  },
  {
   "cell_type": "code",
   "execution_count": 25,
   "metadata": {},
   "outputs": [
    {
     "data": {
      "text/plain": [
       "[('美国', 61),\n",
       " ('中国', 24),\n",
       " ('英国', 16),\n",
       " ('日本', 8),\n",
       " ('法国', 7),\n",
       " ('意大利', 6),\n",
       " ('韩国', 5),\n",
       " ('德国', 5),\n",
       " ('加拿大', 4),\n",
       " ('新西兰', 3),\n",
       " ('印度', 2),\n",
       " ('瑞士', 2),\n",
       " ('墨西哥', 1),\n",
       " ('黎巴嫩', 1),\n",
       " ('塞浦路斯', 1),\n",
       " ('卡塔尔', 1),\n",
       " ('波兰', 1),\n",
       " ('西班牙', 1),\n",
       " ('伊朗', 1),\n",
       " ('丹麦', 1),\n",
       " ('瑞典', 1)]"
      ]
     },
     "execution_count": 25,
     "metadata": {},
     "output_type": "execute_result"
    }
   ],
   "source": [
    "country_dict = df[\"国家\"].str.split().explode().value_counts().to_dict()\n",
    "country_dict[\"中国\"] = 0\n",
    "for cn_name in (\"中国大陆\", \"中国香港\", \"中国台湾\"):\n",
    "    if cn_name in country_dict:\n",
    "        country_dict[\"中国\"] += country_dict[cn_name]\n",
    "        del country_dict[cn_name] \n",
    "\n",
    "sorted_contries = sorted(country_dict.items(), key=lambda x: x[1], reverse=True)\n",
    "sorted_contries"
   ]
  },
  {
   "cell_type": "code",
   "execution_count": 26,
   "metadata": {},
   "outputs": [
    {
     "data": {
      "text/plain": [
       "[1, 2, 3, 1]"
      ]
     },
     "execution_count": 26,
     "metadata": {},
     "output_type": "execute_result"
    }
   ],
   "source": [
    "[1, 2, 3] + [1]"
   ]
  },
  {
   "cell_type": "code",
   "execution_count": 27,
   "metadata": {},
   "outputs": [
    {
     "data": {
      "text/plain": [
       "{'美国': 61, '中国': 24, '英国': 16, '日本': 8, '法国': 7, '其他': 36}"
      ]
     },
     "execution_count": 27,
     "metadata": {},
     "output_type": "execute_result"
    }
   ],
   "source": [
    "other_country_count = 0\n",
    "for country_item in sorted_contries[5:]:\n",
    "    other_country_count += country_item[1]\n",
    "\n",
    "country_dict = dict(sorted_contries[:5] + [(\"其他\", other_country_count)])\n",
    "country_dict"
   ]
  },
  {
   "cell_type": "code",
   "execution_count": 28,
   "metadata": {},
   "outputs": [
    {
     "data": {
      "text/plain": [
       "[{'name': '美国', 'value': 61},\n",
       " {'name': '中国', 'value': 24},\n",
       " {'name': '英国', 'value': 16},\n",
       " {'name': '日本', 'value': 8},\n",
       " {'name': '法国', 'value': 7},\n",
       " {'name': '其他', 'value': 36}]"
      ]
     },
     "execution_count": 28,
     "metadata": {},
     "output_type": "execute_result"
    }
   ],
   "source": [
    "dict_to_echarts_data(country_dict)"
   ]
  },
  {
   "cell_type": "code",
   "execution_count": 29,
   "metadata": {},
   "outputs": [
    {
     "data": {
      "text/plain": [
       "9.152000000000001"
      ]
     },
     "execution_count": 29,
     "metadata": {},
     "output_type": "execute_result"
    }
   ],
   "source": [
    "df[\"评分\"].mean()"
   ]
  },
  {
   "cell_type": "code",
   "execution_count": 30,
   "metadata": {},
   "outputs": [
    {
     "data": {
      "text/plain": [
       "110233477"
      ]
     },
     "execution_count": 30,
     "metadata": {},
     "output_type": "execute_result"
    }
   ],
   "source": [
    "df[\"人数\"].sum()"
   ]
  },
  {
   "cell_type": "code",
   "execution_count": 31,
   "metadata": {},
   "outputs": [
    {
     "data": {
      "text/plain": [
       "25"
      ]
     },
     "execution_count": 31,
     "metadata": {},
     "output_type": "execute_result"
    }
   ],
   "source": [
    "df[\"类型\"].str.split().explode().unique().size"
   ]
  },
  {
   "cell_type": "code",
   "execution_count": 38,
   "metadata": {},
   "outputs": [
    {
     "data": {
      "text/plain": [
       "年份\n",
       "1930     2\n",
       "1950     3\n",
       "1960     2\n",
       "1970     3\n",
       "1980     6\n",
       "1990    28\n",
       "2000    34\n",
       "2010    22\n",
       "Name: 年份, dtype: int64"
      ]
     },
     "execution_count": 38,
     "metadata": {},
     "output_type": "execute_result"
    }
   ],
   "source": [
    "df['年份'].groupby(df['年份'] // 10 * 10).count()"
   ]
  },
  {
   "cell_type": "code",
   "execution_count": 42,
   "metadata": {},
   "outputs": [
    {
     "data": {
      "text/plain": [
       "array([ 2,  3,  2,  3,  6, 28, 34, 22], dtype=int64)"
      ]
     },
     "execution_count": 42,
     "metadata": {},
     "output_type": "execute_result"
    }
   ],
   "source": [
    "decade_count = df['年份'].groupby(df['年份'] // 10 * 10).count()\n",
    "decade_count.values"
   ]
  },
  {
   "cell_type": "code",
   "execution_count": 43,
   "metadata": {},
   "outputs": [
    {
     "data": {
      "text/plain": [
       "Index([1930, 1950, 1960, 1970, 1980, 1990, 2000, 2010], dtype='int64', name='年份')"
      ]
     },
     "execution_count": 43,
     "metadata": {},
     "output_type": "execute_result"
    }
   ],
   "source": [
    "decade_count.index"
   ]
  },
  {
   "cell_type": "code",
   "execution_count": 44,
   "metadata": {},
   "outputs": [
    {
     "data": {
      "text/plain": [
       "1936"
      ]
     },
     "execution_count": 44,
     "metadata": {},
     "output_type": "execute_result"
    }
   ],
   "source": [
    "df['年份'].min()"
   ]
  },
  {
   "cell_type": "code",
   "execution_count": 50,
   "metadata": {},
   "outputs": [
    {
     "data": {
      "text/plain": [
       "dict_keys([1936, 1937, 1938, 1939, 1940, 1941, 1942, 1943, 1944, 1945, 1946, 1947, 1948, 1949, 1950, 1951, 1952, 1953, 1954, 1955, 1956, 1957, 1958, 1959, 1960, 1961, 1962, 1963, 1964, 1965, 1966, 1967, 1968, 1969, 1970, 1971, 1972, 1973, 1974, 1975, 1976, 1977, 1978, 1979, 1980, 1981, 1982, 1983, 1984, 1985, 1986, 1987, 1988, 1989, 1990, 1991, 1992, 1993, 1994, 1995, 1996, 1997, 1998, 1999, 2000, 2001, 2002, 2003, 2004, 2005, 2006, 2007, 2008, 2009, 2010, 2011, 2012, 2013, 2014, 2015, 2016, 2017, 2018, 2019, 2020, 2021, 2022, 2023, 2024])"
      ]
     },
     "execution_count": 50,
     "metadata": {},
     "output_type": "execute_result"
    }
   ],
   "source": [
    "year_count = {y: 0 for y in range(1936, 2025)}\n",
    "for year in df['年份'].values:\n",
    "    year_count[year] += 1\n",
    "\n",
    "year_count.keys()"
   ]
  },
  {
   "cell_type": "code",
   "execution_count": 48,
   "metadata": {},
   "outputs": [
    {
     "data": {
      "text/plain": [
       "dict_values([1, 0, 0, 1, 0, 0, 0, 0, 0, 0, 0, 0, 0, 0, 0, 0, 0, 1, 0, 0, 0, 2, 0, 0, 0, 1, 0, 0, 0, 1, 0, 0, 0, 0, 0, 0, 1, 0, 1, 1, 0, 0, 0, 0, 0, 0, 0, 0, 1, 0, 1, 1, 2, 1, 0, 1, 1, 3, 7, 4, 0, 5, 4, 3, 3, 4, 5, 4, 5, 0, 4, 0, 4, 5, 4, 4, 2, 2, 2, 1, 3, 1, 3, 0, 0, 0, 0, 0, 0])"
      ]
     },
     "execution_count": 48,
     "metadata": {},
     "output_type": "execute_result"
    }
   ],
   "source": [
    "year_count.values()"
   ]
  },
  {
   "cell_type": "code",
   "execution_count": 53,
   "metadata": {},
   "outputs": [
    {
     "name": "stdout",
     "output_type": "stream",
     "text": [
      "[1995, 1996, 1997, 1998, 1999, 2000, 2001, 2002, 2003, 2004, 2005, 2006, 2007, 2008, 2009, 2010, 2011, 2012, 2013, 2014, 2015, 2016, 2017, 2018, 2019, 2020, 2021, 2022, 2023, 2024]\n"
     ]
    }
   ],
   "source": [
    "print(list(year_count.keys())[-30:])"
   ]
  },
  {
   "cell_type": "code",
   "execution_count": 54,
   "metadata": {},
   "outputs": [
    {
     "name": "stdout",
     "output_type": "stream",
     "text": [
      "[4, 0, 5, 4, 3, 3, 4, 5, 4, 5, 0, 4, 0, 4, 5, 4, 4, 2, 2, 2, 1, 3, 1, 3, 0, 0, 0, 0, 0, 0]\n"
     ]
    }
   ],
   "source": [
    "print(list(year_count.values())[-30:])"
   ]
  },
  {
   "cell_type": "code",
   "execution_count": 58,
   "metadata": {},
   "outputs": [
    {
     "data": {
      "text/plain": [
       "array([[1994,  142],\n",
       "       [1993,  171],\n",
       "       [1994,  142],\n",
       "       [1997,  194],\n",
       "       [2001,  125],\n",
       "       [1994,  110],\n",
       "       [1997,  116],\n",
       "       [2014,  169],\n",
       "       [2010,  148],\n",
       "       [1993,  195],\n",
       "       [1998,  103],\n",
       "       [2009,   93],\n",
       "       [1998,  165],\n",
       "       [2009,  171],\n",
       "       [2004,   97],\n",
       "       [2008,   98],\n",
       "       [2016,  109],\n",
       "       [2002,  101],\n",
       "       [1957,  116],\n",
       "       [1995,   95],\n",
       "       [2011,  125],\n",
       "       [1972,  175],\n",
       "       [2011,  112],\n",
       "       [2006,  117],\n",
       "       [2017,  105],\n",
       "       [1987,  163],\n",
       "       [1988,   86],\n",
       "       [2010,   90],\n",
       "       [1994,  132],\n",
       "       [2001,  152],\n",
       "       [2008,  152],\n",
       "       [2003,  201],\n",
       "       [2018,  117],\n",
       "       [1939,  233],\n",
       "       [2009,   96],\n",
       "       [2013,  122],\n",
       "       [1957,   96],\n",
       "       [2004,  119],\n",
       "       [2010,  132],\n",
       "       [2018,  126],\n",
       "       [2016,  161],\n",
       "       [2002,  141],\n",
       "       [1986,  125],\n",
       "       [2000,  139],\n",
       "       [2015,  111],\n",
       "       [2012,  127],\n",
       "       [2002,  149],\n",
       "       [1995,   88],\n",
       "       [2002,  180],\n",
       "       [1992,  157],\n",
       "       [1989,  128],\n",
       "       [2018,  130],\n",
       "       [1953,  118],\n",
       "       [1961,  113],\n",
       "       [1988,  155],\n",
       "       [1999,  136],\n",
       "       [2001,  179],\n",
       "       [1974,  202],\n",
       "       [1994,   89],\n",
       "       [2013,  127],\n",
       "       [1994,  124],\n",
       "       [1999,  139],\n",
       "       [2008,  166],\n",
       "       [2001,  135],\n",
       "       [2008,   94],\n",
       "       [2006,  137],\n",
       "       [1995,  117],\n",
       "       [1998,  107],\n",
       "       [2000,  108],\n",
       "       [1965,  174],\n",
       "       [2016,  106],\n",
       "       [2009,  162],\n",
       "       [2011,  130],\n",
       "       [1998,  169],\n",
       "       [1975,  133],\n",
       "       [1997,   89],\n",
       "       [1991,  118],\n",
       "       [2004,  100],\n",
       "       [2014,   99],\n",
       "       [2010,  138],\n",
       "       [2004,  113],\n",
       "       [2004,  141],\n",
       "       [2006,  130],\n",
       "       [1997,  126],\n",
       "       [2011,   98],\n",
       "       [1994,  154],\n",
       "       [1936,   87],\n",
       "       [2009,   92],\n",
       "       [1997,   96],\n",
       "       [1999,   89],\n",
       "       [1984,  229],\n",
       "       [2003,   90],\n",
       "       [2003,  132],\n",
       "       [2002,  161],\n",
       "       [2006,   90],\n",
       "       [1995,  127],\n",
       "       [2003,  143],\n",
       "       [2000,  173],\n",
       "       [2012,  115],\n",
       "       [1993,  102]], dtype=int64)"
      ]
     },
     "execution_count": 58,
     "metadata": {},
     "output_type": "execute_result"
    }
   ],
   "source": [
    "df[['年份', '片长']].values"
   ]
  },
  {
   "cell_type": "code",
   "execution_count": null,
   "metadata": {},
   "outputs": [],
   "source": []
  }
 ],
 "metadata": {
  "kernelspec": {
   "display_name": "Python 3.8.10 64-bit",
   "language": "python",
   "name": "python3"
  },
  "language_info": {
   "codemirror_mode": {
    "name": "ipython",
    "version": 3
   },
   "file_extension": ".py",
   "mimetype": "text/x-python",
   "name": "python",
   "nbconvert_exporter": "python",
   "pygments_lexer": "ipython3",
   "version": "3.8.10"
  },
  "vscode": {
   "interpreter": {
    "hash": "205595cd1daa4a192140885c104c4ea416cf31c31e44558713cd0df72bb67f19"
   }
  }
 },
 "nbformat": 4,
 "nbformat_minor": 2
}
